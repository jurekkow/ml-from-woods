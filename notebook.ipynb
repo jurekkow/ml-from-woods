{
 "cells": [
  {
   "cell_type": "markdown",
   "metadata": {},
   "source": [
    "![](https://upload.wikimedia.org/wikipedia/commons/3/38/Forest_panorama_2.jpg \"Machine learning from woods - exploring tree-based ensemble models\")"
   ]
  },
  {
   "cell_type": "markdown",
   "metadata": {},
   "source": [
    "# Machine learning from woods - exploring tree-based ensemble models"
   ]
  },
  {
   "cell_type": "markdown",
   "metadata": {},
   "source": [
    "### Intro"
   ]
  },
  {
   "cell_type": "markdown",
   "metadata": {},
   "source": [
    "Ensemble models are definitely a hot topic in machine learning area. They win a lot of data science competitions (ex. organized by Kaggle or DrivenData), they are relatively easy to understand (at least some of them) and they usually doesn’t require large clusters of GPU-accelerated machines to give some reasonable results. Therefore ensemble models definitely deserve being in arsenal of anyone who deals with machine learning problems.\n",
    "\n",
    "In this blogpost, I will present some basic theory behind three ensemble models: random forest, AdaBoost and gradient tree boosting. Then, we will see how to implement them using one of the most popular machine learning library: Scikit-Learn and how to improve their out-of-the-box performance. You definitely don’t have to be a machine learning expert or statistical/mathematical genius to understand this text, but it will be easier if you are familiar with some main ideas of supervised learning."
   ]
  },
  {
   "cell_type": "markdown",
   "metadata": {},
   "source": [
    "### ML Background"
   ]
  },
  {
   "cell_type": "markdown",
   "metadata": {},
   "source": [
    "Let’s start by briefly introducing two crucial concepts to understand this section, namely: bias and variance. These two describes dependency between model complexity and data. When bias is high it means that model is too general and ignores many important patterns. On the other hand high variance appears when model “focuses” on gentle details too much, losing broader view on data. Finding optimal model is always a trade-off between bias and variance.\n",
    "\n",
    "In the next sections we will solve classification problems on several datasets. Classification models learn patterns from features that characterize each class, so later given only features of new sample, they can output it’s class label.\n",
    "\n",
    "General idea behind ensemble models is so simple, that [even pigeons could understand it](https://www.theguardian.com/society/2015/nov/19/pigeons-can-identify-cancerous-tissue-on-x-rays-study-finds). Here’s a recipe: get a set of models, aggregate their predictions and you are ready to go! There are of course many tricks to draw best results from ensembles and we’ll discover some of them later, but for now this intuition is sufficient. There is still one evidently unclear thing: why the title is so “woody”, and what does it mean that models are tree-based? It turns out that most commonly used algorithms to combine into ensembles are decision trees. So before diving into how random forest, AdaBoost and gradient tree boosting works, let’s focus on it’s building blocks. "
   ]
  },
  {
   "cell_type": "markdown",
   "metadata": {},
   "source": [
    "#### Decision Trees"
   ]
  },
  {
   "cell_type": "markdown",
   "metadata": {},
   "source": [
    "To put it simply, decision trees are models that are build on set of boolean conditions defined on features of data, that are composed in tree form. Using given [criterions](http://scikit-learn.org/stable/modules/tree.html#classification-criteria) they find most optimal decision boundaries. One of their advantage is fact, that they are easy to visualize, so let’s do it to clarify how these boundaries interact with each other.\n",
    "\n",
    "Let’s create simple dataset, where each of 100 samples is defined by only two features (dimensions): X and Y, and there are three classes: “red”, “green” and “blue” using `make_blobs` function from Scikit-Learn library:"
   ]
  },
  {
   "cell_type": "code",
   "execution_count": 1,
   "metadata": {},
   "outputs": [
    {
     "data": {
      "image/png": "[encoded data removed]",
      "text/plain": [
       "<matplotlib.figure.Figure at 0x7f566a108828>"
      ]
     },
     "metadata": {},
     "output_type": "display_data"
    }
   ],
   "source": [
    "import matplotlib.pyplot as plt\n",
    "\n",
    "from sklearn.datasets import make_blobs\n",
    "\n",
    "%matplotlib inline\n",
    "\n",
    "RANDOM_STATE = 123  # Ensure repeatability when using randomness\n",
    "COLORS = [\"red\", \"green\", \"blue\"]\n",
    "FEATURES_NAMES = [\"X\", \"Y\"]\n",
    "\n",
    "features, labels = make_blobs(centers=[(-3, 3), (0, -3), (3, 3)], random_state=RANDOM_STATE)\n",
    "labels_colors = [COLORS[label] for label in labels]\n",
    "\n",
    "plt.scatter(features[:, 0], features[:, 1], c=labels_colors)\n",
    "plt.xlabel(FEATURES_NAMES[0])\n",
    "plt.ylabel(FEATURES_NAMES[1])\n",
    "plt.show()"
   ]
  },
  {
   "cell_type": "markdown",
   "metadata": {},
   "source": [
    "Then we can create our tree classifier. All Scikit-Learn's share the same API for training: method `fit(features, labels)`."
   ]
  },
  {
   "cell_type": "code",
   "execution_count": 2,
   "metadata": {},
   "outputs": [
    {
     "data": {
      "text/plain": [
       "DecisionTreeClassifier(class_weight=None, criterion='gini', max_depth=None,\n",
       "            max_features=None, max_leaf_nodes=None,\n",
       "            min_impurity_decrease=0.0, min_impurity_split=None,\n",
       "            min_samples_leaf=1, min_samples_split=2,\n",
       "            min_weight_fraction_leaf=0.0, presort=False, random_state=None,\n",
       "            splitter='best')"
      ]
     },
     "execution_count": 2,
     "metadata": {},
     "output_type": "execute_result"
    }
   ],
   "source": [
    "import sklearn.tree\n",
    "\n",
    "decision_tree = sklearn.tree.DecisionTreeClassifier()\n",
    "decision_tree.fit(features, labels)"
   ]
  },
  {
   "cell_type": "markdown",
   "metadata": {},
   "source": [
    "Finally we will use graphviz library to investigate the structure of out tree classifier."
   ]
  },
  {
   "cell_type": "code",
   "execution_count": 3,
   "metadata": {},
   "outputs": [
    {
     "data": {
      "image/svg+xml": [
       "<?xml version=\"1.0\" encoding=\"UTF-8\" standalone=\"no\"?>\n",
       "<!DOCTYPE svg PUBLIC \"-//W3C//DTD SVG 1.1//EN\"\n",
       " \"http://www.w3.org/Graphics/SVG/1.1/DTD/svg11.dtd\">\n",
       "<!-- Generated by graphviz version 2.40.1 (20161225.0304)\n",
       " -->\n",
       "<!-- Title: Tree Pages: 1 -->\n",
       "<svg width=\"331pt\" height=\"269pt\"\n",
       " viewBox=\"0.00 0.00 331.00 269.00\" xmlns=\"http://www.w3.org/2000/svg\" xmlns:xlink=\"http://www.w3.org/1999/xlink\">\n",
       "<g id=\"graph0\" class=\"graph\" transform=\"scale(1 1) rotate(0) translate(4 265)\">\n",
       "<title>Tree</title>\n",
       "<polygon fill=\"#ffffff\" stroke=\"transparent\" points=\"-4,4 -4,-265 327,-265 327,4 -4,4\"/>\n",
       "<!-- 0 -->\n",
       "<g id=\"node1\" class=\"node\">\n",
       "<title>0</title>\n",
       "<path fill=\"#e58139\" fill-opacity=\"0.015686\" stroke=\"#000000\" d=\"M181.5,-261C181.5,-261 73.5,-261 73.5,-261 67.5,-261 61.5,-255 61.5,-249 61.5,-249 61.5,-205 61.5,-205 61.5,-199 67.5,-193 73.5,-193 73.5,-193 181.5,-193 181.5,-193 187.5,-193 193.5,-199 193.5,-205 193.5,-205 193.5,-249 193.5,-249 193.5,-255 187.5,-261 181.5,-261\"/>\n",
       "<text text-anchor=\"middle\" x=\"127.5\" y=\"-245.8\" font-family=\"Helvetica,sans-Serif\" font-size=\"14.00\" fill=\"#000000\">Y &lt;= &#45;0.316</text>\n",
       "<text text-anchor=\"middle\" x=\"127.5\" y=\"-230.8\" font-family=\"Helvetica,sans-Serif\" font-size=\"14.00\" fill=\"#000000\">samples = 100</text>\n",
       "<text text-anchor=\"middle\" x=\"127.5\" y=\"-215.8\" font-family=\"Helvetica,sans-Serif\" font-size=\"14.00\" fill=\"#000000\">value = [34, 33, 33]</text>\n",
       "<text text-anchor=\"middle\" x=\"127.5\" y=\"-200.8\" font-family=\"Helvetica,sans-Serif\" font-size=\"14.00\" fill=\"#000000\">class = red</text>\n",
       "</g>\n",
       "<!-- 1 -->\n",
       "<g id=\"node2\" class=\"node\">\n",
       "<title>1</title>\n",
       "<path fill=\"#39e581\" stroke=\"#000000\" d=\"M105,-149.5C105,-149.5 12,-149.5 12,-149.5 6,-149.5 0,-143.5 0,-137.5 0,-137.5 0,-108.5 0,-108.5 0,-102.5 6,-96.5 12,-96.5 12,-96.5 105,-96.5 105,-96.5 111,-96.5 117,-102.5 117,-108.5 117,-108.5 117,-137.5 117,-137.5 117,-143.5 111,-149.5 105,-149.5\"/>\n",
       "<text text-anchor=\"middle\" x=\"58.5\" y=\"-134.3\" font-family=\"Helvetica,sans-Serif\" font-size=\"14.00\" fill=\"#000000\">samples = 33</text>\n",
       "<text text-anchor=\"middle\" x=\"58.5\" y=\"-119.3\" font-family=\"Helvetica,sans-Serif\" font-size=\"14.00\" fill=\"#000000\">value = [0, 33, 0]</text>\n",
       "<text text-anchor=\"middle\" x=\"58.5\" y=\"-104.3\" font-family=\"Helvetica,sans-Serif\" font-size=\"14.00\" fill=\"#000000\">class = green</text>\n",
       "</g>\n",
       "<!-- 0&#45;&gt;1 -->\n",
       "<g id=\"edge1\" class=\"edge\">\n",
       "<title>0&#45;&gt;1</title>\n",
       "<path fill=\"none\" stroke=\"#000000\" d=\"M104.9068,-192.9465C97.4527,-181.7113 89.1533,-169.2021 81.6577,-157.9043\"/>\n",
       "<polygon fill=\"#000000\" stroke=\"#000000\" points=\"84.5547,-155.94 76.1097,-149.5422 78.7218,-159.81 84.5547,-155.94\"/>\n",
       "<text text-anchor=\"middle\" x=\"71.1523\" y=\"-170.3457\" font-family=\"Helvetica,sans-Serif\" font-size=\"14.00\" fill=\"#000000\">True</text>\n",
       "</g>\n",
       "<!-- 2 -->\n",
       "<g id=\"node3\" class=\"node\">\n",
       "<title>2</title>\n",
       "<path fill=\"#e58139\" fill-opacity=\"0.031373\" stroke=\"#000000\" d=\"M248,-157C248,-157 147,-157 147,-157 141,-157 135,-151 135,-145 135,-145 135,-101 135,-101 135,-95 141,-89 147,-89 147,-89 248,-89 248,-89 254,-89 260,-95 260,-101 260,-101 260,-145 260,-145 260,-151 254,-157 248,-157\"/>\n",
       "<text text-anchor=\"middle\" x=\"197.5\" y=\"-141.8\" font-family=\"Helvetica,sans-Serif\" font-size=\"14.00\" fill=\"#000000\">X &lt;= 0.49</text>\n",
       "<text text-anchor=\"middle\" x=\"197.5\" y=\"-126.8\" font-family=\"Helvetica,sans-Serif\" font-size=\"14.00\" fill=\"#000000\">samples = 67</text>\n",
       "<text text-anchor=\"middle\" x=\"197.5\" y=\"-111.8\" font-family=\"Helvetica,sans-Serif\" font-size=\"14.00\" fill=\"#000000\">value = [34, 0, 33]</text>\n",
       "<text text-anchor=\"middle\" x=\"197.5\" y=\"-96.8\" font-family=\"Helvetica,sans-Serif\" font-size=\"14.00\" fill=\"#000000\">class = red</text>\n",
       "</g>\n",
       "<!-- 0&#45;&gt;2 -->\n",
       "<g id=\"edge2\" class=\"edge\">\n",
       "<title>0&#45;&gt;2</title>\n",
       "<path fill=\"none\" stroke=\"#000000\" d=\"M150.4206,-192.9465C156.2826,-184.2373 162.6598,-174.7626 168.773,-165.6801\"/>\n",
       "<polygon fill=\"#000000\" stroke=\"#000000\" points=\"171.8476,-167.3802 174.5279,-157.13 166.0405,-163.4716 171.8476,-167.3802\"/>\n",
       "<text text-anchor=\"middle\" x=\"179.3223\" y=\"-177.966\" font-family=\"Helvetica,sans-Serif\" font-size=\"14.00\" fill=\"#000000\">False</text>\n",
       "</g>\n",
       "<!-- 3 -->\n",
       "<g id=\"node4\" class=\"node\">\n",
       "<title>3</title>\n",
       "<path fill=\"#e58139\" stroke=\"#000000\" d=\"M176,-53C176,-53 83,-53 83,-53 77,-53 71,-47 71,-41 71,-41 71,-12 71,-12 71,-6 77,0 83,0 83,0 176,0 176,0 182,0 188,-6 188,-12 188,-12 188,-41 188,-41 188,-47 182,-53 176,-53\"/>\n",
       "<text text-anchor=\"middle\" x=\"129.5\" y=\"-37.8\" font-family=\"Helvetica,sans-Serif\" font-size=\"14.00\" fill=\"#000000\">samples = 34</text>\n",
       "<text text-anchor=\"middle\" x=\"129.5\" y=\"-22.8\" font-family=\"Helvetica,sans-Serif\" font-size=\"14.00\" fill=\"#000000\">value = [34, 0, 0]</text>\n",
       "<text text-anchor=\"middle\" x=\"129.5\" y=\"-7.8\" font-family=\"Helvetica,sans-Serif\" font-size=\"14.00\" fill=\"#000000\">class = red</text>\n",
       "</g>\n",
       "<!-- 2&#45;&gt;3 -->\n",
       "<g id=\"edge3\" class=\"edge\">\n",
       "<title>2&#45;&gt;3</title>\n",
       "<path fill=\"none\" stroke=\"#000000\" d=\"M173.5257,-88.9777C167.2667,-80.0954 160.5099,-70.5067 154.2133,-61.5711\"/>\n",
       "<polygon fill=\"#000000\" stroke=\"#000000\" points=\"156.9699,-59.4068 148.3487,-53.2485 151.2479,-63.4389 156.9699,-59.4068\"/>\n",
       "</g>\n",
       "<!-- 4 -->\n",
       "<g id=\"node5\" class=\"node\">\n",
       "<title>4</title>\n",
       "<path fill=\"#8139e5\" stroke=\"#000000\" d=\"M311,-53C311,-53 218,-53 218,-53 212,-53 206,-47 206,-41 206,-41 206,-12 206,-12 206,-6 212,0 218,0 218,0 311,0 311,0 317,0 323,-6 323,-12 323,-12 323,-41 323,-41 323,-47 317,-53 311,-53\"/>\n",
       "<text text-anchor=\"middle\" x=\"264.5\" y=\"-37.8\" font-family=\"Helvetica,sans-Serif\" font-size=\"14.00\" fill=\"#000000\">samples = 33</text>\n",
       "<text text-anchor=\"middle\" x=\"264.5\" y=\"-22.8\" font-family=\"Helvetica,sans-Serif\" font-size=\"14.00\" fill=\"#000000\">value = [0, 0, 33]</text>\n",
       "<text text-anchor=\"middle\" x=\"264.5\" y=\"-7.8\" font-family=\"Helvetica,sans-Serif\" font-size=\"14.00\" fill=\"#000000\">class = blue</text>\n",
       "</g>\n",
       "<!-- 2&#45;&gt;4 -->\n",
       "<g id=\"edge4\" class=\"edge\">\n",
       "<title>2&#45;&gt;4</title>\n",
       "<path fill=\"none\" stroke=\"#000000\" d=\"M221.1217,-88.9777C227.2887,-80.0954 233.9461,-70.5067 240.1501,-61.5711\"/>\n",
       "<polygon fill=\"#000000\" stroke=\"#000000\" points=\"243.1003,-63.4589 245.9285,-53.2485 237.3503,-59.4666 243.1003,-63.4589\"/>\n",
       "</g>\n",
       "</g>\n",
       "</svg>\n"
      ],
      "text/plain": [
       "<graphviz.files.Source at 0x7f565f9a7a58>"
      ]
     },
     "execution_count": 3,
     "metadata": {},
     "output_type": "execute_result"
    }
   ],
   "source": [
    "import graphviz\n",
    "\n",
    "tree_data = sklearn.tree.export_graphviz(decision_tree,\n",
    "                                         out_file=None,\n",
    "                                         feature_names=FEATURES_NAMES,\n",
    "                                         class_names=COLORS,\n",
    "                                         rounded=True,\n",
    "                                         filled=True,\n",
    "                                         impurity=False)\n",
    "tree_graph = graphviz.Source(tree_data)\n",
    "tree_graph"
   ]
  },
  {
   "cell_type": "markdown",
   "metadata": {},
   "source": [
    "First row in node describes decision boundary (not present in leafs), next is number of samples that falls into that node, another one is node’s samples distribution between classes, and the last one is most common class in the node, which in leafs is interpreted as tree output label.\n",
    "\n",
    "As you can see, decision trees handled well this toy example, and in fact they handle well many real-life problems. Moreover they need very little data preprocessing: ex. scaling data is not needed, because trees will find decision boundaries independently of magnitude of given feature. In addition, decision trees can handle both numerical and categorical data. However they are very prone to overfitting - what means they easily become high-variance models. That results in instability, because small changes in training set can result in major decision boundaries shifts. There are many ways to handle this problem and the most successful one is using more than one tree to build ensemble classifier."
   ]
  },
  {
   "cell_type": "markdown",
   "metadata": {},
   "source": [
    "#### Random Forest"
   ]
  },
  {
   "cell_type": "markdown",
   "metadata": {},
   "source": [
    "You may ask yourself, how using many high-variance models can in fact reduce variance and decrease general error? Let’s imagine you have several datasets, each representing the same phenomenon, but they are taken from different samples of population. If you train decision tree on one of this sets, you won’t have amazing overall performance, but if you will ask set of trees trained on different data to come to a consensus, individual variances will cancel out. But how to train decision trees, so that we have several different models using just one training dataset? That’s where idea of bagging is coming with rescue. Let’s say you have 1000 samples in your training set, and you want to create 25 new training sets to train 25 different decision trees. You just pick randomly 1000 samples (with replacement) from your training set (bag). In new training set, some samples from original one will appear more than once, and some won’t appear at all. If you repeat this procedure 25 times, you’ll have 25 different training sets for building your trees. To get final prediction of ensemble, you just pick the most common output of all trees. You may also use probabilities of classes instead of just labels. They can be taken from distribution of class representants in final tree node (leaf). Using this attitude, your model will favour more confident trees, which sounds reasonable.\n",
    "\n",
    "But random forest is more than just bagging trees. To make individual trees even more diverse, you randomly limit set of features available when splitting a node. This way, each time when tree tries to find an optimal decision boundary, it “sees” only random subset of all features. This draw take place each time node is split. Common measure is to randomly take $\\sqrt{n}$ or $\\log_{2}{n}$ features to make a split wheren is original number of features.\n"
   ]
  },
  {
   "cell_type": "markdown",
   "metadata": {},
   "source": [
    "#### AdaBoost"
   ]
  },
  {
   "cell_type": "markdown",
   "metadata": {},
   "source": [
    "There is another family of ensembling methods called boosting, that tackles problem from the other side. This time we will use many weak learners (only slightly better than random guessing), that are high-bias models. Because every base model will be biased in different way, they will cancel out general bias.\n",
    "\n",
    "Trees that build AdaBoost ensemble, are created sequentially in such a way that new tree should reduce error made by previous models. What is important, once tree is trained, it remains untouched during rest of ensemble training. Trees used in AdaBoost are really shallow, often having only 2 leafs (such trees are called decision stumps). Using trees as base learners is not required by AdaBoost algorithm, but it’s most common practice.\n",
    "\n",
    "When creating AdaBoost model, all training samples has weights bounded to it. Initially all weights are the same and equal 1N, where N is number of samples. After one tree is trained, weights of wrongly classified samples are increased, and that modified version of dataset is an input to another tree from ensemble. This procedure continues until maximum number of trees is reached or adding new tree don’t result in reducing training error. Output prediction is combination of outputs from all shallow trees, weighted by each tree accuracy. If you are curious what formulas are used for weighting samples, as well as predictions, I highly recommend [blogpost from Jason Brownlee about AdaBoost](https://machinelearningmastery.com/boosting-and-adaboost-for-machine-learning/). "
   ]
  },
  {
   "cell_type": "markdown",
   "metadata": {},
   "source": [
    "#### Gradient Tree Boosting"
   ]
  },
  {
   "cell_type": "markdown",
   "metadata": {},
   "source": [
    "Gradient tree boosting is next member of boosting algorithms family. Similarly to AdaBoost, it is built from set of small trees, but usually slightly deeper than decision stumps. Trees are trained sequentially, just like in AdaBoost, but training of individual trees is not the same.\n",
    "\n",
    "Trees that are used in gradient tree boosting differ from trees that was described earlier. They are regression trees, so theirs aim is to produce some real value number for each sample. In fact, they are pretty similar to classification decision trees, but they put into leafs samples that have similar (ideally, the same) real values bounded to them. Output value from given leaf is mean value from all samples that get there during training. In case of gradient tree boosting, such trees are constructed for each class independently. They learn to output probability that given sample is a member of given class. Values bounded to samples are either 0 (member of another class) or 1 (member of this class), so perfect tree will output only 0 or 1 and flawed one will produce numbers between 0 and 1.\n",
    "\n",
    "The main idea behind the algorithm is to iteratively find new trees that minimizes loss function: measure to tell how bad model is. It have to be differentiable, and it’s picked based on problem to solve. For classification it is usually log loss, that is just negative mean of log-probabilities that sample xi is classified as it’s label:\n",
    "$$loss = -\\frac{1}{N}\\sum_{i=1}^{N}{\\log{p(TRUE LABEL | x_i)}}$$\n",
    "Having loss value, we can calculate so-called pseudo residuals, that are gradients (partial derivatives) of loss with respect to predictions from previous trees. Pseudo residuals are then plugged instead of labels (ones and zeros in fact) when training a new tree. It does make sense, because new tree will treat differently samples that were completely wrong classified by previous trees and the ones that were pretty close to correct prediction. In addition, trees are parameterized, and these parameters are also optimized during training in order to reduce loss. If you are hungry for more math that explains the whole process you may want to read [wikipedia article](https://en.wikipedia.org/wiki/Gradient_boosting#Algorithm), or [whitepaper](https://statweb.stanford.edu/~jhf/ftp/trebst.pdf) from one of the fathers of this method.\n"
   ]
  },
  {
   "cell_type": "markdown",
   "metadata": {},
   "source": [
    "### Dataset"
   ]
  },
  {
   "cell_type": "markdown",
   "metadata": {},
   "source": [
    "To test our algorithms, we will use plain old dataset of Australian Credit Approval. Based on given features of customer (feature names was removed, but it's not important for us), our model will try to predict whether to accept or reject credit card application. There are only two classes: accepted and rejected, so this problem can be named as binary classification. This dataset is available [here](http://mldata.org/repository/data/viewslug/australian/), and we will use an utility Scikit-Learn's function `fetch_mldata` to easily download datasets from mldata.org. We also shuffle data and split it to train and test sets, so after training we can evaluate our model on previously unseen data."
   ]
  },
  {
   "cell_type": "code",
   "execution_count": 7,
   "metadata": {},
   "outputs": [],
   "source": [
    "from sklearn.datasets import fetch_mldata\n",
    "from sklearn.model_selection import train_test_split\n",
    "from sklearn.utils import shuffle\n",
    "\n",
    "DATASET_NAME = \"australian\"\n",
    "TEST_SIZE = 0.2\n",
    "\n",
    "data_bunch = fetch_mldata(DATASET_NAME)\n",
    "features, labels = shuffle(data_bunch.data, data_bunch.target, random_state=RANDOM_STATE)\n",
    "features_train, features_test, labels_train, labels_test = train_test_split(\n",
    "    features, labels, test_size=TEST_SIZE, random_state=RANDOM_STATE)"
   ]
  },
  {
   "cell_type": "markdown",
   "metadata": {},
   "source": [
    "### Ensemble models in scikit-learn"
   ]
  },
  {
   "cell_type": "markdown",
   "metadata": {},
   "source": [
    "### Results"
   ]
  },
  {
   "cell_type": "markdown",
   "metadata": {},
   "source": [
    "### Model tuning"
   ]
  },
  {
   "cell_type": "markdown",
   "metadata": {},
   "source": [
    "#### Hyperparameters"
   ]
  },
  {
   "cell_type": "markdown",
   "metadata": {},
   "source": [
    "#### Cross-validation"
   ]
  },
  {
   "cell_type": "markdown",
   "metadata": {},
   "source": [
    "### Summary"
   ]
  }
 ],
 "metadata": {
  "kernelspec": {
   "display_name": "Python 3",
   "language": "python",
   "name": "python3"
  },
  "language_info": {
   "codemirror_mode": {
    "name": "ipython",
    "version": 3
   },
   "file_extension": ".py",
   "mimetype": "text/x-python",
   "name": "python",
   "nbconvert_exporter": "python",
   "pygments_lexer": "ipython3",
   "version": "3.6.4"
  }
 },
 "nbformat": 4,
 "nbformat_minor": 2
}
