{
 "cells": [
  {
   "cell_type": "markdown",
   "metadata": {},
   "source": [
    "![](https://upload.wikimedia.org/wikipedia/commons/3/38/Forest_panorama_2.jpg \"Machine learning from woods - exploring tree-based ensemble models\")"
   ]
  },
  {
   "cell_type": "markdown",
   "metadata": {},
   "source": [
    "# Machine learning from woods - exploring tree-based ensemble models"
   ]
  },
  {
   "cell_type": "markdown",
   "metadata": {},
   "source": [
    "### Intro"
   ]
  },
  {
   "cell_type": "markdown",
   "metadata": {},
   "source": [
    "Ensemble models are definitely a hot topic in machine learning area. They win a lot of data science competitions (ex. organized by Kaggle or DrivenData), they are relatively easy to understand (at least some of them) and they usually doesn’t require large clusters of GPU-accelerated machines to give some reasonable results. Therefore ensemble models definitely deserve being in arsenal of anyone who deals with machine learning problems.\n",
    "\n",
    "In this blogpost, I will present some basic theory behind three ensemble models: random forest, AdaBoost and gradient tree boosting. Then, we will see how to implement them using one of the most popular machine learning library: Scikit-Learn and how to improve their out-of-the-box performance. You definitely don’t have to be a machine learning expert or statistical/mathematical genius to understand this text, but it will be easier if you are familiar with some main ideas of supervised learning."
   ]
  },
  {
   "cell_type": "markdown",
   "metadata": {},
   "source": [
    "### ML Background"
   ]
  },
  {
   "cell_type": "markdown",
   "metadata": {},
   "source": [
    "Let’s start by briefly introducing two crucial concepts to understand this section, namely: bias and variance. These two describes dependency between model complexity and data. When bias is high it means that model is too general and ignores many important patterns. On the other hand high variance appears when model “focuses” on gentle details too much, losing broader view on data. Finding optimal model is always a trade-off between bias and variance.\n",
    "\n",
    "In the next sections we will solve classification problems on several datasets. Classification models learn patterns from features that characterize each class, so later given only features of new sample, they can output it’s class label.\n",
    "\n",
    "General idea behind ensemble models is so simple, that [even pigeons could understand it](https://www.theguardian.com/society/2015/nov/19/pigeons-can-identify-cancerous-tissue-on-x-rays-study-finds). Here’s a recipe: get a set of models, aggregate their predictions and you are ready to go! There are of course many tricks to draw best results from ensembles and we’ll discover some of them later, but for now this intuition is sufficient. There is still one evidently unclear thing: why the title is so “woody”, and what does it mean that models are tree-based? It turns out that most commonly used algorithms to combine into ensembles are decision trees. So before diving into how random forest, AdaBoost and gradient tree boosting works, let’s focus on it’s building blocks. "
   ]
  },
  {
   "cell_type": "markdown",
   "metadata": {},
   "source": [
    "#### Decision Trees"
   ]
  },
  {
   "cell_type": "markdown",
   "metadata": {},
   "source": [
    "To put it simply, decision trees are models that are build on set of boolean conditions defined on features of data, that are composed in tree form. Using given [criterions](http://scikit-learn.org/stable/modules/tree.html#classification-criteria) they find most optimal decision boundaries. One of their advantage is fact, that they are easy to visualize, so let’s do it to clarify how these boundaries interact with each other.\n",
    "\n",
    "Let’s create simple dataset, where each of 100 samples is defined by only two features (dimensions): X and Y, and there are three classes: “red”, “green” and “blue” using `make_blobs` function from Scikit-Learn library:"
   ]
  },
  {
   "cell_type": "code",
   "execution_count": 1,
   "metadata": {},
   "outputs": [
    {
     "data": {
      "image/png": "[encoded data removed]",
      "text/plain": [
       "<matplotlib.figure.Figure at 0x7f38aec36780>"
      ]
     },
     "metadata": {},
     "output_type": "display_data"
    }
   ],
   "source": [
    "import matplotlib.pyplot as plt\n",
    "\n",
    "from sklearn.datasets import make_blobs\n",
    "\n",
    "%matplotlib inline\n",
    "\n",
    "RANDOM_STATE = 123  # Ensure repeatability when using randomness\n",
    "COLORS = [\"red\", \"green\", \"blue\"]\n",
    "FEATURES_NAMES = [\"X\", \"Y\"]\n",
    "\n",
    "features, labels = make_blobs(centers=[(-3, 3), (0, -3), (3, 3)], random_state=RANDOM_STATE)\n",
    "labels_colors = [COLORS[label] for label in labels]\n",
    "\n",
    "plt.scatter(features[:, 0], features[:, 1], c=labels_colors)\n",
    "plt.xlabel(FEATURES_NAMES[0])\n",
    "plt.ylabel(FEATURES_NAMES[1])\n",
    "plt.show()"
   ]
  },
  {
   "cell_type": "markdown",
   "metadata": {},
   "source": [
    "Then we can create our tree classifier. All Scikit-Learn's share the same API for training: method `fit(features, labels)`."
   ]
  },
  {
   "cell_type": "code",
   "execution_count": 2,
   "metadata": {},
   "outputs": [
    {
     "data": {
      "text/plain": [
       "DecisionTreeClassifier(class_weight=None, criterion='gini', max_depth=None,\n",
       "            max_features=None, max_leaf_nodes=None,\n",
       "            min_impurity_decrease=0.0, min_impurity_split=None,\n",
       "            min_samples_leaf=1, min_samples_split=2,\n",
       "            min_weight_fraction_leaf=0.0, presort=False, random_state=None,\n",
       "            splitter='best')"
      ]
     },
     "execution_count": 2,
     "metadata": {},
     "output_type": "execute_result"
    }
   ],
   "source": [
    "import sklearn.tree\n",
    "\n",
    "decision_tree = sklearn.tree.DecisionTreeClassifier()\n",
    "decision_tree.fit(features, labels)"
   ]
  },
  {
   "cell_type": "markdown",
   "metadata": {},
   "source": [
    "Finally we will use graphviz library to investigate the structure of out tree classifier."
   ]
  },
  {
   "cell_type": "code",
   "execution_count": 3,
   "metadata": {},
   "outputs": [
    {
     "data": {
      "image/svg+xml": [
       "<?xml version=\"1.0\" encoding=\"UTF-8\" standalone=\"no\"?>\n",
       "<!DOCTYPE svg PUBLIC \"-//W3C//DTD SVG 1.1//EN\"\n",
       " \"http://www.w3.org/Graphics/SVG/1.1/DTD/svg11.dtd\">\n",
       "<!-- Generated by graphviz version 2.40.1 (20161225.0304)\n",
       " -->\n",
       "<!-- Title: Tree Pages: 1 -->\n",
       "<svg width=\"331pt\" height=\"269pt\"\n",
       " viewBox=\"0.00 0.00 331.00 269.00\" xmlns=\"http://www.w3.org/2000/svg\" xmlns:xlink=\"http://www.w3.org/1999/xlink\">\n",
       "<g id=\"graph0\" class=\"graph\" transform=\"scale(1 1) rotate(0) translate(4 265)\">\n",
       "<title>Tree</title>\n",
       "<polygon fill=\"#ffffff\" stroke=\"transparent\" points=\"-4,4 -4,-265 327,-265 327,4 -4,4\"/>\n",
       "<!-- 0 -->\n",
       "<g id=\"node1\" class=\"node\">\n",
       "<title>0</title>\n",
       "<path fill=\"#e58139\" fill-opacity=\"0.015686\" stroke=\"#000000\" d=\"M181.5,-261C181.5,-261 73.5,-261 73.5,-261 67.5,-261 61.5,-255 61.5,-249 61.5,-249 61.5,-205 61.5,-205 61.5,-199 67.5,-193 73.5,-193 73.5,-193 181.5,-193 181.5,-193 187.5,-193 193.5,-199 193.5,-205 193.5,-205 193.5,-249 193.5,-249 193.5,-255 187.5,-261 181.5,-261\"/>\n",
       "<text text-anchor=\"middle\" x=\"127.5\" y=\"-245.8\" font-family=\"Helvetica,sans-Serif\" font-size=\"14.00\" fill=\"#000000\">Y &lt;= &#45;0.316</text>\n",
       "<text text-anchor=\"middle\" x=\"127.5\" y=\"-230.8\" font-family=\"Helvetica,sans-Serif\" font-size=\"14.00\" fill=\"#000000\">samples = 100</text>\n",
       "<text text-anchor=\"middle\" x=\"127.5\" y=\"-215.8\" font-family=\"Helvetica,sans-Serif\" font-size=\"14.00\" fill=\"#000000\">value = [34, 33, 33]</text>\n",
       "<text text-anchor=\"middle\" x=\"127.5\" y=\"-200.8\" font-family=\"Helvetica,sans-Serif\" font-size=\"14.00\" fill=\"#000000\">class = red</text>\n",
       "</g>\n",
       "<!-- 1 -->\n",
       "<g id=\"node2\" class=\"node\">\n",
       "<title>1</title>\n",
       "<path fill=\"#39e581\" stroke=\"#000000\" d=\"M105,-149.5C105,-149.5 12,-149.5 12,-149.5 6,-149.5 0,-143.5 0,-137.5 0,-137.5 0,-108.5 0,-108.5 0,-102.5 6,-96.5 12,-96.5 12,-96.5 105,-96.5 105,-96.5 111,-96.5 117,-102.5 117,-108.5 117,-108.5 117,-137.5 117,-137.5 117,-143.5 111,-149.5 105,-149.5\"/>\n",
       "<text text-anchor=\"middle\" x=\"58.5\" y=\"-134.3\" font-family=\"Helvetica,sans-Serif\" font-size=\"14.00\" fill=\"#000000\">samples = 33</text>\n",
       "<text text-anchor=\"middle\" x=\"58.5\" y=\"-119.3\" font-family=\"Helvetica,sans-Serif\" font-size=\"14.00\" fill=\"#000000\">value = [0, 33, 0]</text>\n",
       "<text text-anchor=\"middle\" x=\"58.5\" y=\"-104.3\" font-family=\"Helvetica,sans-Serif\" font-size=\"14.00\" fill=\"#000000\">class = green</text>\n",
       "</g>\n",
       "<!-- 0&#45;&gt;1 -->\n",
       "<g id=\"edge1\" class=\"edge\">\n",
       "<title>0&#45;&gt;1</title>\n",
       "<path fill=\"none\" stroke=\"#000000\" d=\"M104.9068,-192.9465C97.4527,-181.7113 89.1533,-169.2021 81.6577,-157.9043\"/>\n",
       "<polygon fill=\"#000000\" stroke=\"#000000\" points=\"84.5547,-155.94 76.1097,-149.5422 78.7218,-159.81 84.5547,-155.94\"/>\n",
       "<text text-anchor=\"middle\" x=\"71.1523\" y=\"-170.3457\" font-family=\"Helvetica,sans-Serif\" font-size=\"14.00\" fill=\"#000000\">True</text>\n",
       "</g>\n",
       "<!-- 2 -->\n",
       "<g id=\"node3\" class=\"node\">\n",
       "<title>2</title>\n",
       "<path fill=\"#e58139\" fill-opacity=\"0.031373\" stroke=\"#000000\" d=\"M248,-157C248,-157 147,-157 147,-157 141,-157 135,-151 135,-145 135,-145 135,-101 135,-101 135,-95 141,-89 147,-89 147,-89 248,-89 248,-89 254,-89 260,-95 260,-101 260,-101 260,-145 260,-145 260,-151 254,-157 248,-157\"/>\n",
       "<text text-anchor=\"middle\" x=\"197.5\" y=\"-141.8\" font-family=\"Helvetica,sans-Serif\" font-size=\"14.00\" fill=\"#000000\">X &lt;= 0.49</text>\n",
       "<text text-anchor=\"middle\" x=\"197.5\" y=\"-126.8\" font-family=\"Helvetica,sans-Serif\" font-size=\"14.00\" fill=\"#000000\">samples = 67</text>\n",
       "<text text-anchor=\"middle\" x=\"197.5\" y=\"-111.8\" font-family=\"Helvetica,sans-Serif\" font-size=\"14.00\" fill=\"#000000\">value = [34, 0, 33]</text>\n",
       "<text text-anchor=\"middle\" x=\"197.5\" y=\"-96.8\" font-family=\"Helvetica,sans-Serif\" font-size=\"14.00\" fill=\"#000000\">class = red</text>\n",
       "</g>\n",
       "<!-- 0&#45;&gt;2 -->\n",
       "<g id=\"edge2\" class=\"edge\">\n",
       "<title>0&#45;&gt;2</title>\n",
       "<path fill=\"none\" stroke=\"#000000\" d=\"M150.4206,-192.9465C156.2826,-184.2373 162.6598,-174.7626 168.773,-165.6801\"/>\n",
       "<polygon fill=\"#000000\" stroke=\"#000000\" points=\"171.8476,-167.3802 174.5279,-157.13 166.0405,-163.4716 171.8476,-167.3802\"/>\n",
       "<text text-anchor=\"middle\" x=\"179.3223\" y=\"-177.966\" font-family=\"Helvetica,sans-Serif\" font-size=\"14.00\" fill=\"#000000\">False</text>\n",
       "</g>\n",
       "<!-- 3 -->\n",
       "<g id=\"node4\" class=\"node\">\n",
       "<title>3</title>\n",
       "<path fill=\"#e58139\" stroke=\"#000000\" d=\"M176,-53C176,-53 83,-53 83,-53 77,-53 71,-47 71,-41 71,-41 71,-12 71,-12 71,-6 77,0 83,0 83,0 176,0 176,0 182,0 188,-6 188,-12 188,-12 188,-41 188,-41 188,-47 182,-53 176,-53\"/>\n",
       "<text text-anchor=\"middle\" x=\"129.5\" y=\"-37.8\" font-family=\"Helvetica,sans-Serif\" font-size=\"14.00\" fill=\"#000000\">samples = 34</text>\n",
       "<text text-anchor=\"middle\" x=\"129.5\" y=\"-22.8\" font-family=\"Helvetica,sans-Serif\" font-size=\"14.00\" fill=\"#000000\">value = [34, 0, 0]</text>\n",
       "<text text-anchor=\"middle\" x=\"129.5\" y=\"-7.8\" font-family=\"Helvetica,sans-Serif\" font-size=\"14.00\" fill=\"#000000\">class = red</text>\n",
       "</g>\n",
       "<!-- 2&#45;&gt;3 -->\n",
       "<g id=\"edge3\" class=\"edge\">\n",
       "<title>2&#45;&gt;3</title>\n",
       "<path fill=\"none\" stroke=\"#000000\" d=\"M173.5257,-88.9777C167.2667,-80.0954 160.5099,-70.5067 154.2133,-61.5711\"/>\n",
       "<polygon fill=\"#000000\" stroke=\"#000000\" points=\"156.9699,-59.4068 148.3487,-53.2485 151.2479,-63.4389 156.9699,-59.4068\"/>\n",
       "</g>\n",
       "<!-- 4 -->\n",
       "<g id=\"node5\" class=\"node\">\n",
       "<title>4</title>\n",
       "<path fill=\"#8139e5\" stroke=\"#000000\" d=\"M311,-53C311,-53 218,-53 218,-53 212,-53 206,-47 206,-41 206,-41 206,-12 206,-12 206,-6 212,0 218,0 218,0 311,0 311,0 317,0 323,-6 323,-12 323,-12 323,-41 323,-41 323,-47 317,-53 311,-53\"/>\n",
       "<text text-anchor=\"middle\" x=\"264.5\" y=\"-37.8\" font-family=\"Helvetica,sans-Serif\" font-size=\"14.00\" fill=\"#000000\">samples = 33</text>\n",
       "<text text-anchor=\"middle\" x=\"264.5\" y=\"-22.8\" font-family=\"Helvetica,sans-Serif\" font-size=\"14.00\" fill=\"#000000\">value = [0, 0, 33]</text>\n",
       "<text text-anchor=\"middle\" x=\"264.5\" y=\"-7.8\" font-family=\"Helvetica,sans-Serif\" font-size=\"14.00\" fill=\"#000000\">class = blue</text>\n",
       "</g>\n",
       "<!-- 2&#45;&gt;4 -->\n",
       "<g id=\"edge4\" class=\"edge\">\n",
       "<title>2&#45;&gt;4</title>\n",
       "<path fill=\"none\" stroke=\"#000000\" d=\"M221.1217,-88.9777C227.2887,-80.0954 233.9461,-70.5067 240.1501,-61.5711\"/>\n",
       "<polygon fill=\"#000000\" stroke=\"#000000\" points=\"243.1003,-63.4589 245.9285,-53.2485 237.3503,-59.4666 243.1003,-63.4589\"/>\n",
       "</g>\n",
       "</g>\n",
       "</svg>\n"
      ],
      "text/plain": [
       "<graphviz.files.Source at 0x7f38a44d4a58>"
      ]
     },
     "execution_count": 3,
     "metadata": {},
     "output_type": "execute_result"
    }
   ],
   "source": [
    "import graphviz\n",
    "\n",
    "tree_data = sklearn.tree.export_graphviz(decision_tree,\n",
    "                                         out_file=None,\n",
    "                                         feature_names=FEATURES_NAMES,\n",
    "                                         class_names=COLORS,\n",
    "                                         rounded=True,\n",
    "                                         filled=True,\n",
    "                                         impurity=False)\n",
    "tree_graph = graphviz.Source(tree_data)\n",
    "tree_graph"
   ]
  },
  {
   "cell_type": "markdown",
   "metadata": {},
   "source": [
    "First row in node describes decision boundary (not present in leafs), next is number of samples that falls into that node, another one is node’s samples distribution between classes, and the last one is most common class in the node, which in leafs is interpreted as tree output label.\n",
    "\n",
    "As you can see, decision trees handled well this toy example, and in fact they handle well many real-life problems. Moreover they need very little data preprocessing: ex. scaling data is not needed, because trees will find decision boundaries independently of magnitude of given feature. In addition, decision trees can handle both numerical and categorical data. However they are very prone to overfitting - what means they easily become high-variance models. That results in instability, because small changes in training set can result in major decision boundaries shifts. There are many ways to handle this problem and the most successful one is using more than one tree to build ensemble classifier."
   ]
  },
  {
   "cell_type": "markdown",
   "metadata": {},
   "source": [
    "#### Random Forest"
   ]
  },
  {
   "cell_type": "markdown",
   "metadata": {},
   "source": [
    "You may ask yourself, how using many high-variance models can in fact reduce variance and decrease general error? Let’s imagine you have several datasets, each representing the same phenomenon, but they are taken from different samples of population. If you train decision tree on one of this sets, you won’t have amazing overall performance, but if you will ask set of trees trained on different data to come to a consensus, individual variances will cancel out. But how to train decision trees, so that we have several different models using just one training dataset? That’s where idea of bagging is coming with rescue. Let’s say you have 1000 samples in your training set, and you want to create 25 new training sets to train 25 different decision trees. You just pick randomly 1000 samples (with replacement) from your training set (bag). In new training set, some samples from original one will appear more than once, and some won’t appear at all. If you repeat this procedure 25 times, you’ll have 25 different training sets for building your trees. To get final prediction of ensemble, you just pick the most common output of all trees. You may also use probabilities of classes instead of just labels. They can be taken from distribution of class representants in final tree node (leaf). Using this attitude, your model will favour more confident trees, which sounds reasonable.\n",
    "\n",
    "But random forest is more than just bagging trees. To make individual trees even more diverse, you randomly limit set of features available when splitting a node. This way, each time when tree tries to find an optimal decision boundary, it “sees” only random subset of all features. This draw take place each time node is split. Common measure is to randomly take $\\sqrt{n}$ or $\\log_{2}{n}$ features to make a split wheren is original number of features.\n"
   ]
  },
  {
   "cell_type": "markdown",
   "metadata": {},
   "source": [
    "#### AdaBoost"
   ]
  },
  {
   "cell_type": "markdown",
   "metadata": {},
   "source": [
    "There is another family of ensembling methods called boosting, that tackles problem from the other side. This time we will use many weak learners (only slightly better than random guessing), that are high-bias models. Because every base model will be biased in different way, they will cancel out general bias.\n",
    "\n",
    "Trees that build AdaBoost ensemble, are created sequentially in such a way that new tree should reduce error made by previous models. What is important, once tree is trained, it remains untouched during rest of ensemble training. Trees used in AdaBoost are really shallow, often having only 2 leafs (such trees are called decision stumps). Using trees as base learners is not required by AdaBoost algorithm, but it’s most common practice.\n",
    "\n",
    "When creating AdaBoost model, all training samples has weights bounded to it. Initially all weights are the same and equal 1N, where N is number of samples. After one tree is trained, weights of wrongly classified samples are increased, and that modified version of dataset is an input to another tree from ensemble. This procedure continues until maximum number of trees is reached or adding new tree don’t result in reducing training error. Output prediction is combination of outputs from all shallow trees, weighted by each tree accuracy. If you are curious what formulas are used for weighting samples, as well as predictions, I highly recommend [blogpost from Jason Brownlee about AdaBoost](https://machinelearningmastery.com/boosting-and-adaboost-for-machine-learning/). "
   ]
  },
  {
   "cell_type": "markdown",
   "metadata": {},
   "source": [
    "#### Gradient Tree Boosting"
   ]
  },
  {
   "cell_type": "markdown",
   "metadata": {},
   "source": [
    "Gradient tree boosting is next member of boosting algorithms family. Similarly to AdaBoost, it is built from set of small trees, but usually slightly deeper than decision stumps. Trees are trained sequentially, just like in AdaBoost, but training of individual trees is not the same.\n",
    "\n",
    "Trees that are used in gradient tree boosting differ from trees that was described earlier. They are regression trees, so theirs aim is to produce some real value number for each sample. In fact, they are pretty similar to classification decision trees, but they put into leafs samples that have similar (ideally, the same) real values bounded to them. Output value from given leaf is mean value from all samples that get there during training. In case of gradient tree boosting, such trees are constructed for each class independently. They learn to output probability that given sample is a member of given class. Values bounded to samples are either 0 (member of another class) or 1 (member of this class), so perfect tree will output only 0 or 1 and flawed one will produce numbers between 0 and 1.\n",
    "\n",
    "The main idea behind the algorithm is to iteratively find new trees that minimizes loss function: measure to tell how bad model is. It have to be differentiable, and it’s picked based on problem to solve. For classification it is usually log loss, that is just negative mean of log-probabilities that sample xi is classified as it’s label:\n",
    "$$loss = -\\frac{1}{N}\\sum_{i=1}^{N}{\\log{p(TRUE LABEL | x_i)}}$$\n",
    "Having loss value, we can calculate so-called pseudo residuals, that are gradients (partial derivatives) of loss with respect to predictions from previous trees. Pseudo residuals are then plugged instead of labels (ones and zeros in fact) when training a new tree. It does make sense, because new tree will treat differently samples that were completely wrong classified by previous trees and the ones that were pretty close to correct prediction. In addition, trees are parameterized, and these parameters are also optimized during training in order to reduce loss. If you are hungry for more math that explains the whole process you may want to read [wikipedia article](https://en.wikipedia.org/wiki/Gradient_boosting#Algorithm), or [whitepaper](https://statweb.stanford.edu/~jhf/ftp/trebst.pdf) from one of the fathers of this method.\n"
   ]
  },
  {
   "cell_type": "markdown",
   "metadata": {},
   "source": [
    "### Dataset"
   ]
  },
  {
   "cell_type": "markdown",
   "metadata": {},
   "source": [
    "To test our algorithms, we will use plain old dataset of Australian Credit Approval. Based on given features of customer (feature names was removed, but it's not important for us), our model will try to predict whether to accept or reject credit card application. There are only two classes: accepted and rejected, so this problem can be named as binary classification. This dataset is available [here](http://mldata.org/repository/data/viewslug/australian/), and we will use an utility Scikit-Learn's function `fetch_mldata` to easily download datasets from mldata.org. We also shuffle data and split it to train and test sets, so after training we can evaluate our model on previously unseen data."
   ]
  },
  {
   "cell_type": "code",
   "execution_count": 4,
   "metadata": {},
   "outputs": [],
   "source": [
    "from sklearn.datasets import fetch_mldata\n",
    "from sklearn.model_selection import train_test_split\n",
    "from sklearn.utils import shuffle\n",
    "\n",
    "DATASET_NAME = \"australian\"\n",
    "TEST_SIZE = 0.2\n",
    "\n",
    "data_bunch = fetch_mldata(DATASET_NAME)\n",
    "features, labels = shuffle(data_bunch.data, data_bunch.target, random_state=RANDOM_STATE)\n",
    "features_train, features_test, labels_train, labels_test = train_test_split(\n",
    "    features, labels, test_size=TEST_SIZE, random_state=RANDOM_STATE)"
   ]
  },
  {
   "cell_type": "markdown",
   "metadata": {},
   "source": [
    "### Ensemble models in Scikit-Learn"
   ]
  },
  {
   "cell_type": "markdown",
   "metadata": {},
   "source": [
    "All models we will test out lives in `sklearn.ensemble` module. Let’s just create them with default constructor parameters, but set random_state to obtain always the same results with the dame data."
   ]
  },
  {
   "cell_type": "code",
   "execution_count": 5,
   "metadata": {},
   "outputs": [],
   "source": [
    "from sklearn.ensemble import RandomForestClassifier, AdaBoostClassifier, GradientBoostingClassifier\n",
    "\n",
    "models = [\n",
    "    RandomForestClassifier(random_state=RANDOM_STATE),\n",
    "    AdaBoostClassifier(random_state=RANDOM_STATE),\n",
    "    GradientBoostingClassifier(random_state=RANDOM_STATE)\n",
    "]"
   ]
  },
  {
   "cell_type": "markdown",
   "metadata": {},
   "source": [
    "### Results"
   ]
  },
  {
   "cell_type": "markdown",
   "metadata": {},
   "source": [
    "So let's iterate through our models, and check their accuracy (rate of correctly labeled samples), put into Panda's `DataFrame` and check how our models performed!"
   ]
  },
  {
   "cell_type": "code",
   "execution_count": 6,
   "metadata": {},
   "outputs": [
    {
     "data": {
      "text/html": [
       "<div>\n",
       "<style scoped>\n",
       "    .dataframe tbody tr th:only-of-type {\n",
       "        vertical-align: middle;\n",
       "    }\n",
       "\n",
       "    .dataframe tbody tr th {\n",
       "        vertical-align: top;\n",
       "    }\n",
       "\n",
       "    .dataframe thead th {\n",
       "        text-align: right;\n",
       "    }\n",
       "</style>\n",
       "<table border=\"1\" class=\"dataframe\">\n",
       "  <thead>\n",
       "    <tr style=\"text-align: right;\">\n",
       "      <th></th>\n",
       "      <th>RandomForestClassifier</th>\n",
       "      <th>AdaBoostClassifier</th>\n",
       "      <th>GradientBoostingClassifier</th>\n",
       "    </tr>\n",
       "  </thead>\n",
       "  <tbody>\n",
       "    <tr>\n",
       "      <th>Train accuracy</th>\n",
       "      <td>0.989130</td>\n",
       "      <td>0.903986</td>\n",
       "      <td>0.981884</td>\n",
       "    </tr>\n",
       "    <tr>\n",
       "      <th>Test accuracy</th>\n",
       "      <td>0.862319</td>\n",
       "      <td>0.862319</td>\n",
       "      <td>0.876812</td>\n",
       "    </tr>\n",
       "  </tbody>\n",
       "</table>\n",
       "</div>"
      ],
      "text/plain": [
       "                RandomForestClassifier  AdaBoostClassifier  \\\n",
       "Train accuracy                0.989130            0.903986   \n",
       "Test accuracy                 0.862319            0.862319   \n",
       "\n",
       "                GradientBoostingClassifier  \n",
       "Train accuracy                    0.981884  \n",
       "Test accuracy                     0.876812  "
      ]
     },
     "execution_count": 6,
     "metadata": {},
     "output_type": "execute_result"
    }
   ],
   "source": [
    "import pandas as pd\n",
    "\n",
    "TRAIN_SCORES_ROW = \"Train accuracy\"\n",
    "TEST_SCORES_ROW = \"Test accuracy\"\n",
    "\n",
    "def evaluate_models(models, model_names=None):\n",
    "    if not model_names:\n",
    "        model_names = [type(model).__name__ for model in models]\n",
    "        \n",
    "    scores = pd.DataFrame(index=[TRAIN_SCORES_ROW, TEST_SCORES_ROW])\n",
    "    for model, model_name in zip(models, model_names):\n",
    "        model.fit(features_train, labels_train)\n",
    "        scores.at[TRAIN_SCORES_ROW, model_name] = model.score(features_train, labels_train)\n",
    "        scores.at[TEST_SCORES_ROW, model_name] = model.score(features_test, labels_test)\n",
    "    return scores\n",
    "\n",
    "evaluate_models(models)"
   ]
  },
  {
   "cell_type": "markdown",
   "metadata": {},
   "source": [
    "Not bad! As you can see random forest and gradient boosting learned patterns in train set nearly perfectly, although on brand new data all three algorithms performed similarly.\n",
    "\n",
    "There are more metrics than just accuracy that are worth checking. Let's start with confusion matrix for our best model."
   ]
  },
  {
   "cell_type": "code",
   "execution_count": 7,
   "metadata": {},
   "outputs": [],
   "source": [
    "best_model = models[2]\n",
    "predictions_train = best_model.predict(features_train)\n",
    "predictions_test = best_model.predict(features_test)"
   ]
  },
  {
   "cell_type": "code",
   "execution_count": 8,
   "metadata": {},
   "outputs": [],
   "source": [
    "from sklearn.metrics import confusion_matrix\n",
    "\n",
    "def confusion_matrix_as_data_frame(labels, predictions):\n",
    "    return pd.DataFrame(confusion_matrix(labels, predictions),\n",
    "                        index=[\"Actual rejected\", \"Actual accepted\"],\n",
    "                        columns=[\"Predicted rejected\", \"Predicted accepted\"])"
   ]
  },
  {
   "cell_type": "code",
   "execution_count": 9,
   "metadata": {},
   "outputs": [
    {
     "data": {
      "text/html": [
       "<div>\n",
       "<style scoped>\n",
       "    .dataframe tbody tr th:only-of-type {\n",
       "        vertical-align: middle;\n",
       "    }\n",
       "\n",
       "    .dataframe tbody tr th {\n",
       "        vertical-align: top;\n",
       "    }\n",
       "\n",
       "    .dataframe thead th {\n",
       "        text-align: right;\n",
       "    }\n",
       "</style>\n",
       "<table border=\"1\" class=\"dataframe\">\n",
       "  <thead>\n",
       "    <tr style=\"text-align: right;\">\n",
       "      <th></th>\n",
       "      <th>Predicted rejected</th>\n",
       "      <th>Predicted accepted</th>\n",
       "    </tr>\n",
       "  </thead>\n",
       "  <tbody>\n",
       "    <tr>\n",
       "      <th>Actual rejected</th>\n",
       "      <td>300</td>\n",
       "      <td>4</td>\n",
       "    </tr>\n",
       "    <tr>\n",
       "      <th>Actual accepted</th>\n",
       "      <td>6</td>\n",
       "      <td>242</td>\n",
       "    </tr>\n",
       "  </tbody>\n",
       "</table>\n",
       "</div>"
      ],
      "text/plain": [
       "                 Predicted rejected  Predicted accepted\n",
       "Actual rejected                 300                   4\n",
       "Actual accepted                   6                 242"
      ]
     },
     "execution_count": 9,
     "metadata": {},
     "output_type": "execute_result"
    }
   ],
   "source": [
    "confusion_matrix_as_data_frame(labels_train, predictions_train)"
   ]
  },
  {
   "cell_type": "code",
   "execution_count": 10,
   "metadata": {},
   "outputs": [
    {
     "data": {
      "text/html": [
       "<div>\n",
       "<style scoped>\n",
       "    .dataframe tbody tr th:only-of-type {\n",
       "        vertical-align: middle;\n",
       "    }\n",
       "\n",
       "    .dataframe tbody tr th {\n",
       "        vertical-align: top;\n",
       "    }\n",
       "\n",
       "    .dataframe thead th {\n",
       "        text-align: right;\n",
       "    }\n",
       "</style>\n",
       "<table border=\"1\" class=\"dataframe\">\n",
       "  <thead>\n",
       "    <tr style=\"text-align: right;\">\n",
       "      <th></th>\n",
       "      <th>Predicted rejected</th>\n",
       "      <th>Predicted accepted</th>\n",
       "    </tr>\n",
       "  </thead>\n",
       "  <tbody>\n",
       "    <tr>\n",
       "      <th>Actual rejected</th>\n",
       "      <td>71</td>\n",
       "      <td>8</td>\n",
       "    </tr>\n",
       "    <tr>\n",
       "      <th>Actual accepted</th>\n",
       "      <td>9</td>\n",
       "      <td>50</td>\n",
       "    </tr>\n",
       "  </tbody>\n",
       "</table>\n",
       "</div>"
      ],
      "text/plain": [
       "                 Predicted rejected  Predicted accepted\n",
       "Actual rejected                  71                   8\n",
       "Actual accepted                   9                  50"
      ]
     },
     "execution_count": 10,
     "metadata": {},
     "output_type": "execute_result"
    }
   ],
   "source": [
    "confusion_matrix_as_data_frame(labels_test, predictions_test)"
   ]
  },
  {
   "cell_type": "markdown",
   "metadata": {},
   "source": [
    "Confusion matrix illustrates where our model failed. Ex. we can see that gradient boosting model will decide to accept 8 credit card request that should not have been accepted. Using values from confusion matrix we can calculate number of useful metrics such as precision, recall, false positive rate and so on, and I encourage you to get familiar with [them](https://en.wikipedia.org/wiki/Confusion_matrix) if you are not already."
   ]
  },
  {
   "cell_type": "markdown",
   "metadata": {},
   "source": [
    "### Model tuning"
   ]
  },
  {
   "cell_type": "markdown",
   "metadata": {},
   "source": [
    "#### Introducting hyperparameters"
   ]
  },
  {
   "cell_type": "markdown",
   "metadata": {},
   "source": [
    "Hyperparameters, are parts of the model that are set explicitly instead of being set during training. They differ between models, and should be set wisely. Scikit-Learn generally uses pretty reasonable ones, but almost always there is some room left for improvement. To get best out of ML models, they shouldn't be treated as magic black-boxes. They have many \"knobs\" that you can tweak to make them better, and at least high level understanding of how they work let you do so. Let's describe the most important hyperparameters for our three models.\n",
    "\n",
    "* **Number of trees**\n",
    "\n",
    "Undoubtly crucial, if not even the most important hyperparameter of all. It's available for all three algorithms. Generally the more trees are used in ensemble - the better, but it's not the ultimate truth. Boosting algorithms can overfit when too many trees are used. Moreover we are limited by time, because of course more trees means longer training and prediction time. Can be set in counstructor (like all other hyperparameters) by the keyword `n_estimators`.\n",
    "\n",
    "* **Tree size**\n",
    "\n",
    "We don't want our trees to bee too complicated. Of course random forest relies on high-variance trees, but still enough is as good as a feast (ex. time issues again). On the other hand, boosting algorithms needs shallow trees, maybe even stumps, so we should definitely have the power of controling it. There are three main ways to do so: 1) setting maximum tree depth (`max_depth`) 2) maximum number of leaf nodes (`max_leaf_nodes`) 3) minumum number of samples needed to perform split in node (`min_samples_split`) - recommended for random forest. First two are recommended to set when boosting, last one is especially usefull with random forest. When using AdaBoost they can't be set directly via constructor, but they have to be specified in constructor of `base_estimator` object.\n",
    "\n",
    "* **Learning rate**\n",
    "\n",
    "It's present only in boosting methods and defines shrinkage rate of each new added tree. In other words it's factor that every tree contribution is multiplied with. It's highly correlated with the number of trees. Using smaller learning rate forces using higher number of trees to achieve good results. In both described boosting methods it's value is set via keyword `learning_rate`.\n",
    "\n",
    "* **Subsampling**\n",
    "\n",
    "Crucial part in terms of random forest. This hyperparameter controls the size of subset of features to pick when splitting a node. It's not however bound only to random forest, since it's can play significant regularization role when using gradient tree boosting, also. Keyword for this hyperaparmeter is `max_features`. When it's float, it represent fraction of all features to pick, when it's integer it's exact number of features to pick. It also could be string: `\"sqrt\"`, `\"log2\"`, `\"auto\"`. Forst two are self-explanatory and `\"auto\"` is the same as `\"sqrt\"`. Moreover `GradientBoostingClassifier` support `subsample` keyword, that is float telling what fraction of all samples will be used to train single tree. Setting it to lower values than 1.0 can reduce variance and lead to better results."
   ]
  },
  {
   "cell_type": "markdown",
   "metadata": {},
   "source": [
    "#### Hyperparameters search"
   ]
  },
  {
   "cell_type": "markdown",
   "metadata": {},
   "source": [
    "Before running automated hyperparameter search, let's start with manual part for boosting methods. There are many different approaches and techniques for searching hyperparameters, but since number of trees is so crucial, and it has learning rate bounded to it we will start with those two. We will start with training boosting algorithm with large number of trees (1000 in this example, but for harder tasks it could be thousands), and try to fit them with different, but small learning rates. What is more, we will extract validation set from our training set, to mimic test set, and we will plot dependency between number of trees and some metric. What is a purpose of validation set? We want to add new trees as long at it improves quality but not only on training set but on test set. To avoid overfitting to test set, we extract validation set from our training set which will be used there as test set. This way we can observe, when our algorithm (trained on cut version of training set) starts to overfit, and we can assume that it will behave similarily on full training set. If it's still unclear for you I hope that plots we will make bellow will resolve your doubts."
   ]
  },
  {
   "cell_type": "markdown",
   "metadata": {},
   "source": [
    "We start with extracting validation set from our training set (mention `_` after training variables - to not cover original ones):"
   ]
  },
  {
   "cell_type": "code",
   "execution_count": 11,
   "metadata": {},
   "outputs": [],
   "source": [
    "features_train_, features_valid, labels_train_, labels_valid = train_test_split(\n",
    "    features_train, labels_train, test_size=TEST_SIZE, random_state=RANDOM_STATE)"
   ]
  },
  {
   "cell_type": "markdown",
   "metadata": {},
   "source": [
    "We define function that will take class of boosting model and list of learning rates to test. This function fit ensemble consisting of 1000 trees with different learning rates. Boosting algorithms have `staged_predict` method, which produces outputs given by intermediate examples. It means that n-nth staged prediction will be output after using first n trees. We can later find maximum staged accuracy, and decide what number of trees will be most optimal. "
   ]
  },
  {
   "cell_type": "code",
   "execution_count": 12,
   "metadata": {
    "scrolled": false
   },
   "outputs": [],
   "source": [
    "from sklearn.metrics import accuracy_score\n",
    "\n",
    "N_TREES = 1000\n",
    "COLORS = ['r', 'g', 'b']\n",
    "\n",
    "def plot_accuracy(model_class, learning_rates):\n",
    "    for learning_rate, color in zip(learning_rates, COLORS):\n",
    "        model = model_class(n_estimators=N_TREES, learning_rate=learning_rate, random_state=RANDOM_STATE)\n",
    "        model_name = type(model).__name__\n",
    "        model.fit(features_train_, labels_train_)\n",
    "\n",
    "        predictions_train = model.staged_predict(features_train_)\n",
    "        predictions_valid = model.staged_predict(features_valid)\n",
    "\n",
    "        accuracies_train = [accuracy_score(labels_train_, prediction) for prediction in predictions_train]\n",
    "        accuracies_valid = [accuracy_score(labels_valid, prediction) for prediction in predictions_valid]\n",
    "\n",
    "        best_n_trees, best_accuracy = max(enumerate(accuracies_valid, start=1), key=lambda x: x[1])\n",
    "        print(\"{}: best valid accuracy={} with {} trees and learning rate={}\".format(\n",
    "            model_name, best_accuracy, best_n_trees, learning_rate))\n",
    "        \n",
    "        plt.plot(accuracies_train, \"--\", c=color, label=\"Train accuracy, LR: {}\".format(learning_rate))\n",
    "        plt.plot(accuracies_valid, c=color, label=\"Valid accuracy, LR: {}\".format(learning_rate))\n",
    "        plt.title(model_name)\n",
    "        plt.xlabel(\"Number of trees\")\n",
    "        plt.ylabel(\"Accuracy\")\n",
    "        plt.legend()\n",
    "    \n",
    "    plt.show()    "
   ]
  },
  {
   "cell_type": "markdown",
   "metadata": {},
   "source": [
    "Usually learning rates worth trying are below 0.1, but here we are dealing with small dataset, that may not require hundreds of trees so remembering correlation between leraning rate and number of trees, we will also try bigger one (0.5)."
   ]
  },
  {
   "cell_type": "code",
   "execution_count": 13,
   "metadata": {},
   "outputs": [
    {
     "name": "stdout",
     "output_type": "stream",
     "text": [
      "GradientBoostingClassifier: best valid accuracy=0.8918918918918919 with 440 trees and learning rate=0.01\n",
      "GradientBoostingClassifier: best valid accuracy=0.9009009009009009 with 48 trees and learning rate=0.1\n",
      "GradientBoostingClassifier: best valid accuracy=0.9009009009009009 with 29 trees and learning rate=0.5\n"
     ]
    },
    {
     "data": {
      "image/png": "[encoded data removed]",
      "text/plain": [
       "<matplotlib.figure.Figure at 0x7f389e901748>"
      ]
     },
     "metadata": {},
     "output_type": "display_data"
    }
   ],
   "source": [
    "plot_accuracy(GradientBoostingClassifier, [0.01, 0.1, 0.5])"
   ]
  },
  {
   "cell_type": "markdown",
   "metadata": {},
   "source": [
    "As suspected, we won't need many trees to perform well: 29 base models with learning rate of 0.5 will do the trick. \n",
    "We will call this function also AdaBoost remembering that it usually 'likes' slightly higher learning rates."
   ]
  },
  {
   "cell_type": "code",
   "execution_count": 14,
   "metadata": {},
   "outputs": [
    {
     "name": "stdout",
     "output_type": "stream",
     "text": [
      "AdaBoostClassifier: best valid accuracy=0.9009009009009009 with 32 trees and learning rate=0.5\n",
      "AdaBoostClassifier: best valid accuracy=0.9099099099099099 with 24 trees and learning rate=0.8\n",
      "AdaBoostClassifier: best valid accuracy=0.918918918918919 with 31 trees and learning rate=1.0\n"
     ]
    },
    {
     "data": {
      "image/png": "[encoded data removed]",
      "text/plain": [
       "<matplotlib.figure.Figure at 0x7f389e92aa90>"
      ]
     },
     "metadata": {},
     "output_type": "display_data"
    }
   ],
   "source": [
    "plot_accuracy(AdaBoostClassifier, [0.5, 0.8, 1.0])"
   ]
  },
  {
   "cell_type": "markdown",
   "metadata": {},
   "source": [
    "Both plots show how boosting methods can overfit: there is a point on each plot after which training accuracy still rises, when validation starts to go down. This mean that adding too many trees causes that model learns patterns only present in training data and fails to generalise problem."
   ]
  },
  {
   "cell_type": "markdown",
   "metadata": {},
   "source": [
    "When we've got optimal number of trees and learning rate, now we will tune other hyperparameters. There is plenty of different suggested recomendations on picking right parameters over the web. We will use set of potential good parameters from table available [here](https://machinelearningmastery.com/configure-gradient-boosting-algorithm/). We will perform so-called Grid Search, so we will try every possible combination of theese parameters, and pick the one that perform the best. During random search [cross-validation](http://www.ritchieng.com/machine-learning-cross-validation/) is performed. At first, training set is divided into n parts (defined by keyword `cv`). Then there are n turns when 1 part is used as validation test and the rest is used as training set. After n validation turns, a mean score (ex. accuracy) is somputed, and configuration that ensured the best mean test (validatScikit-learn provides handy API to do so, and we can even get the best performing model straight away. Note: this code may take a bit longer time: delete some values to minimize number of combinations (ex. maximum values for `max_depth` `subsample` and `max_features`)"
   ]
  },
  {
   "cell_type": "code",
   "execution_count": 15,
   "metadata": {
    "scrolled": false
   },
   "outputs": [],
   "source": [
    "from sklearn.model_selection import GridSearchCV\n",
    "\n",
    "NUM_FOLDS = 5\n",
    "\n",
    "gradient_boosting_params = {\n",
    "    \"n_estimators\": [29],\n",
    "    \"learning_rate\": [0.5],\n",
    "    \"max_depth\": [4, 6, 8, 10],\n",
    "    \"subsample\": [0.4, 0.6, 0.8, 1.0],\n",
    "    \"max_features\": [0.5, 0.75, 1.0]\n",
    "}\n",
    "\n",
    "random_search = GridSearchCV(GradientBoostingClassifier(random_state=RANDOM_STATE),\n",
    "                             param_grid=gradient_boosting_params,\n",
    "                             cv=NUM_FOLDS)\n",
    "random_search.fit(features_train, labels_train)\n",
    "best_gb_model = random_search.best_estimator_\n",
    "best_gb_params = random_search.best_params_"
   ]
  },
  {
   "cell_type": "code",
   "execution_count": 16,
   "metadata": {
    "scrolled": true
   },
   "outputs": [
    {
     "data": {
      "text/plain": [
       "{'learning_rate': 0.5,\n",
       " 'max_depth': 6,\n",
       " 'max_features': 0.75,\n",
       " 'n_estimators': 29,\n",
       " 'subsample': 0.8}"
      ]
     },
     "execution_count": 16,
     "metadata": {},
     "output_type": "execute_result"
    }
   ],
   "source": [
    "best_gb_params"
   ]
  },
  {
   "cell_type": "markdown",
   "metadata": {},
   "source": [
    "To raise a tension, we won't evaluate accuracy of our tuned model now. Firstly let's tune random forest and AdaBoost "
   ]
  },
  {
   "cell_type": "markdown",
   "metadata": {},
   "source": [
    "If we don't have such amazing table with hyperparameters, or it just completely fail on your data there is an alternative to grid search: random search. Instead of trying all combinations of proposed values of parameters, you just define some ranges, where to find them and then randomly pick several sets of parameters. At first, this may sound strange but look at picture below, taken from [this paper](http://www.jmlr.org/papers/volume13/bergstra12a/bergstra12a.pdf) and consider model with only two hyperparameters. Green curve on the top and yellow one on the left of rectangles, are ex. function of accuracy in the terms of each of them. Grid search ensure even coverage of this two-dimensional space, but it covers only three points on each of hyperparameter space. When we use random search, we got much more better coverage of search on each individual hyperparameter. It is especially essential, when one hyperparameter has evident maximum comparing to other one."
   ]
  },
  {
   "cell_type": "markdown",
   "metadata": {},
   "source": [
    "<img src=\"http://cs231n.github.io/assets/nn3/gridsearchbad.jpeg\" alt=\"Drawing\" style=\"width: 500px;\"/>"
   ]
  },
  {
   "cell_type": "markdown",
   "metadata": {},
   "source": [
    "Now let's define ranges of iterest for remaining classifiers, and number of random trials (equal to combinations in previous grid search)."
   ]
  },
  {
   "cell_type": "code",
   "execution_count": 17,
   "metadata": {},
   "outputs": [],
   "source": [
    "from functools import reduce\n",
    "from operator import mul\n",
    "\n",
    "random_trials = reduce(mul, (len(values) for _, values in gradient_boosting_params.items()))\n",
    "\n",
    "random_forest_params = {\n",
    "    \"n_estimators\": range(5, 500),\n",
    "    \"min_samples_split\": range(2, 50),\n",
    "    \"max_features\": [x / 10 for x in range(1, 11)]\n",
    "}\n",
    "\n",
    "adaboost_params = {\n",
    "    \"n_estimators\": range(25, 50),\n",
    "    \"learning_rate\": [x / 100 for x in range(80, 101)],\n",
    "    \"base_estimator__max_depth\": range(1, 3),   \n",
    "}"
   ]
  },
  {
   "cell_type": "markdown",
   "metadata": {},
   "source": [
    "And define function to retrieve best model based on random search."
   ]
  },
  {
   "cell_type": "code",
   "execution_count": 18,
   "metadata": {},
   "outputs": [],
   "source": [
    "from sklearn.model_selection import RandomizedSearchCV\n",
    "\n",
    "def find_best_model(model, params):\n",
    "    random_search = RandomizedSearchCV(model,\n",
    "                                       param_distributions=params,\n",
    "                                       n_iter=random_trials,\n",
    "                                       cv=NUM_FOLDS,\n",
    "                                       random_state=RANDOM_STATE)\n",
    "    random_search.fit(features_train, labels_train)\n",
    "    print(random_search.best_params_)\n",
    "    return random_search.best_estimator_"
   ]
  },
  {
   "cell_type": "markdown",
   "metadata": {},
   "source": [
    "Finally, let's get tuned versions of random forest and AdaBoost, and compare it with gradient boosting. Notice taht we have to explicitely define AdaBoost base model to  tinker with it's parameters."
   ]
  },
  {
   "cell_type": "code",
   "execution_count": 19,
   "metadata": {},
   "outputs": [
    {
     "name": "stdout",
     "output_type": "stream",
     "text": [
      "{'n_estimators': 35, 'min_samples_split': 2, 'max_features': 0.5}\n",
      "{'n_estimators': 25, 'learning_rate': 0.97, 'base_estimator__max_depth': 1}\n"
     ]
    },
    {
     "data": {
      "text/html": [
       "<div>\n",
       "<style scoped>\n",
       "    .dataframe tbody tr th:only-of-type {\n",
       "        vertical-align: middle;\n",
       "    }\n",
       "\n",
       "    .dataframe tbody tr th {\n",
       "        vertical-align: top;\n",
       "    }\n",
       "\n",
       "    .dataframe thead th {\n",
       "        text-align: right;\n",
       "    }\n",
       "</style>\n",
       "<table border=\"1\" class=\"dataframe\">\n",
       "  <thead>\n",
       "    <tr style=\"text-align: right;\">\n",
       "      <th></th>\n",
       "      <th>RandomForestClassifier</th>\n",
       "      <th>AdaBoostClassifier</th>\n",
       "      <th>GradientBoostingClassifier</th>\n",
       "    </tr>\n",
       "  </thead>\n",
       "  <tbody>\n",
       "    <tr>\n",
       "      <th>Train accuracy</th>\n",
       "      <td>1.000000</td>\n",
       "      <td>0.893116</td>\n",
       "      <td>1.000000</td>\n",
       "    </tr>\n",
       "    <tr>\n",
       "      <th>Test accuracy</th>\n",
       "      <td>0.876812</td>\n",
       "      <td>0.884058</td>\n",
       "      <td>0.898551</td>\n",
       "    </tr>\n",
       "  </tbody>\n",
       "</table>\n",
       "</div>"
      ],
      "text/plain": [
       "                RandomForestClassifier  AdaBoostClassifier  \\\n",
       "Train accuracy                1.000000            0.893116   \n",
       "Test accuracy                 0.876812            0.884058   \n",
       "\n",
       "                GradientBoostingClassifier  \n",
       "Train accuracy                    1.000000  \n",
       "Test accuracy                     0.898551  "
      ]
     },
     "execution_count": 19,
     "metadata": {},
     "output_type": "execute_result"
    }
   ],
   "source": [
    "best_rf_model = find_best_model(RandomForestClassifier(random_state=RANDOM_STATE),\n",
    "                                random_forest_params)\n",
    "best_ab_model = find_best_model(AdaBoostClassifier(sklearn.tree.DecisionTreeClassifier(),\n",
    "                                                   random_state=RANDOM_STATE),\n",
    "                                adaboost_params)\n",
    "                         \n",
    "\n",
    "evaluate_models([best_rf_model, best_ab_model, best_gb_model])"
   ]
  },
  {
   "cell_type": "markdown",
   "metadata": {},
   "source": [
    "Hooray! We have slight improvements on each of our classifiers. You can of course try different hyperameter's ranges or use random search with gradient boosting. Moreover, there are many more parameters to tune, but I would argue, that you should at least start with those. They represent different aspects of out models and are rather easy to interpret. BAYESIAN OPTIMALIZATION???"
   ]
  },
  {
   "cell_type": "markdown",
   "metadata": {},
   "source": [
    "#### Ensembling ensembles"
   ]
  },
  {
   "cell_type": "markdown",
   "metadata": {},
   "source": [
    "Now, we will go one step further and try to gather predictions from our tuned ensembles and try to ensemble them! To do so, we will use Scikit-Learn's `VotingClassifier`. It can make decision based on most frequest decision (hard voting) or predicted probabilities from models (soft voting). We will try both and check if we can squeeze a bit more from our fine-tuned models."
   ]
  },
  {
   "cell_type": "code",
   "execution_count": 28,
   "metadata": {},
   "outputs": [
    {
     "data": {
      "text/html": [
       "<div>\n",
       "<style scoped>\n",
       "    .dataframe tbody tr th:only-of-type {\n",
       "        vertical-align: middle;\n",
       "    }\n",
       "\n",
       "    .dataframe tbody tr th {\n",
       "        vertical-align: top;\n",
       "    }\n",
       "\n",
       "    .dataframe thead th {\n",
       "        text-align: right;\n",
       "    }\n",
       "</style>\n",
       "<table border=\"1\" class=\"dataframe\">\n",
       "  <thead>\n",
       "    <tr style=\"text-align: right;\">\n",
       "      <th></th>\n",
       "      <th>Hard voting</th>\n",
       "      <th>Soft voting</th>\n",
       "    </tr>\n",
       "  </thead>\n",
       "  <tbody>\n",
       "    <tr>\n",
       "      <th>Train accuracy</th>\n",
       "      <td>1.000000</td>\n",
       "      <td>1.000000</td>\n",
       "    </tr>\n",
       "    <tr>\n",
       "      <th>Test accuracy</th>\n",
       "      <td>0.905797</td>\n",
       "      <td>0.898551</td>\n",
       "    </tr>\n",
       "  </tbody>\n",
       "</table>\n",
       "</div>"
      ],
      "text/plain": [
       "                Hard voting  Soft voting\n",
       "Train accuracy     1.000000     1.000000\n",
       "Test accuracy      0.905797     0.898551"
      ]
     },
     "execution_count": 28,
     "metadata": {},
     "output_type": "execute_result"
    }
   ],
   "source": [
    "import warnings\n",
    "\n",
    "from sklearn.ensemble import VotingClassifier\n",
    "\n",
    "warnings.filterwarnings(\"ignore\", category=DeprecationWarning)\n",
    "\n",
    "voting_models = [\n",
    "    (\"random forest\", best_rf_model),\n",
    "    (\"AdaBoost\", best_ab_model),\n",
    "    (\"gradient boosting\", best_gb_model)\n",
    "]\n",
    "\n",
    "hard_voting_model = VotingClassifier(voting_models, voting=\"hard\")\n",
    "soft_voting_model = VotingClassifier(voting_models, voting=\"soft\")\n",
    "\n",
    "evaluate_models([hard_voting_model, soft_voting_model], model_names=[\"Hard voting\", \"Soft voting\"])"
   ]
  },
  {
   "cell_type": "markdown",
   "metadata": {},
   "source": [
    "Another tiny step for perfect predictions done! You can also weight models, perform hyperparameter search directly on `VotingClassifier` and more. If you want to do so, [Scikit-Learn's documentation](http://scikit-learn.org/stable/modules/ensemble.html#voting-classifier) is a must for you."
   ]
  },
  {
   "cell_type": "markdown",
   "metadata": {},
   "source": [
    "### Summary"
   ]
  }
 ],
 "metadata": {
  "kernelspec": {
   "display_name": "Python 3",
   "language": "python",
   "name": "python3"
  },
  "language_info": {
   "codemirror_mode": {
    "name": "ipython",
    "version": 3
   },
   "file_extension": ".py",
   "mimetype": "text/x-python",
   "name": "python",
   "nbconvert_exporter": "python",
   "pygments_lexer": "ipython3",
   "version": "3.6.4"
  }
 },
 "nbformat": 4,
 "nbformat_minor": 2
}
